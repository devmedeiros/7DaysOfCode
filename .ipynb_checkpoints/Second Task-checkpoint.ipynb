{
 "cells": [
  {
   "cell_type": "markdown",
   "id": "7dfb6ba1",
   "metadata": {},
   "source": [
    "# Storytelling"
   ]
  },
  {
   "cell_type": "code",
   "execution_count": null,
   "id": "02c1151b",
   "metadata": {},
   "outputs": [],
   "source": [
    "import pandas as pd\n",
    "import seaborn as sns\n",
    "import matplotlib.pyplot as plt\n",
    "from millify import millify\n",
    "import matplotlib.patches as mpatches\n",
    "import seaborn as sns"
   ]
  },
  {
   "cell_type": "code",
   "execution_count": null,
   "id": "cac072e5",
   "metadata": {},
   "outputs": [],
   "source": [
    "data = pd.read_csv('data\\clean_data.csv')"
   ]
  },
  {
   "cell_type": "code",
   "execution_count": null,
   "id": "ec13e8bb",
   "metadata": {},
   "outputs": [],
   "source": [
    "data.head()"
   ]
  },
  {
   "cell_type": "code",
   "execution_count": null,
   "id": "bcea9a38",
   "metadata": {},
   "outputs": [],
   "source": [
    "def add_value_labels(ax, spacing=5, bar='h'):\n",
    "    \"\"\"Add labels to the end of each bar in a bar chart.\n",
    "\n",
    "    Arguments:\n",
    "        ax (matplotlib.axes.Axes): The matplotlib object containing the axes\n",
    "            of the plot to annotate.\n",
    "        spacing (int): The distance between the labels and the bars.\n",
    "    \"\"\"\n",
    "\n",
    "    # For each bar: Place a label\n",
    "    for rect in ax.patches:\n",
    "        # Get X and Y placement of label from rect.\n",
    "        if bar == 'h':\n",
    "            y_value = rect.get_height()\n",
    "            x_value = rect.get_x() + rect.get_width() / 2\n",
    "        elif bar == 'v':\n",
    "            x_value = rect.get_width()\n",
    "            y_value = rect.get_y() + rect.get_height() / 2\n",
    "        \n",
    "        # Number of points between bar and label. Change to your liking.\n",
    "        space = spacing\n",
    "        # Vertical alignment for positive values\n",
    "        if bar == 'h':\n",
    "            va = 'bottom'\n",
    "            # If value of bar is negative: Place label below bar\n",
    "            if y_value < 0:\n",
    "                # Invert space to place label below\n",
    "                space *= -1\n",
    "                # Vertically align label at top\n",
    "                va = 'top'\n",
    "                # Use Y value as label and format number with two decimal places and Millify to be readable\n",
    "            label = millify(y_value, precision=2)\n",
    "\n",
    "            # Create annotation\n",
    "            ax.annotate(\n",
    "                label,                      # Use `label` as label\n",
    "                (x_value, y_value),         # Place label at end of the bar\n",
    "                xytext=(0, space),          # Vertically shift label by `space`\n",
    "                textcoords=\"offset points\", # Interpret `xytext` as offset in points\n",
    "                ha='center',                # Horizontally center label\n",
    "                va=va)                      # Vertically align label differently for\n",
    "                                            # positive and negative values.\n",
    "        elif bar == 'v':\n",
    "            ha = 'left'\n",
    "            \n",
    "            if x_value < 0:\n",
    "                space *= -1\n",
    "                va = 'top'\n",
    "            label = millify(x_value, precision=2)\n",
    "            \n",
    "            ax.annotate(\n",
    "                label,\n",
    "                (x_value, y_value),\n",
    "                xytext=(space, 0),\n",
    "                textcoords='offset points',\n",
    "                ha=ha,\n",
    "                va='center')\n",
    "\n",
    "    \n",
    "\n",
    "        "
   ]
  },
  {
   "cell_type": "code",
   "execution_count": null,
   "id": "73a174e5",
   "metadata": {},
   "outputs": [],
   "source": [
    "plt.figure(figsize=(14, 8))\n",
    "colors = ['#43ABE0', '#43ABE0', '#9FE070', '#43ABE0', '#43ABE0', '#43ABE0', '#9FE070',\n",
    "          '#43ABE0', '#43ABE0', '#43ABE0', '#9FE070', '#43ABE0', '#43ABE0', '#43ABE0',\n",
    "          '#9FE070']\n",
    "ax = data.groupby('ANO').VALOR_REEMBOLSADO.sum().plot(kind = 'bar', color = colors)\n",
    "normal_year = mpatches.Patch(color='#43ABE0', label='Regular Year')\n",
    "election_year = mpatches.Patch(color='#9FE070', label='Election Year')\n",
    "ax.legend(handles=[normal_year, election_year], frameon=False, loc=2)\n",
    "ax.set_title('Refunded Amount by Year')\n",
    "ax.set(xlabel = None)\n",
    "ax.axes.get_yaxis().set_visible(False)\n",
    "add_value_labels(ax)\n",
    "plt.savefig('img\\\\refunded_year.jpg', bbox_inches = 'tight')"
   ]
  },
  {
   "cell_type": "code",
   "execution_count": null,
   "id": "3a8c085d",
   "metadata": {},
   "outputs": [],
   "source": [
    "plt.figure(figsize=(8, 14))\n",
    "ax = data.groupby('SENADOR').VALOR_REEMBOLSADO.sum().reset_index()\n",
    "ax = ax.sort_values('VALOR_REEMBOLSADO',\n",
    "                    ascending = False).head(10).sort_values('VALOR_REEMBOLSADO', \n",
    "                                                            ascending = True).plot(kind = 'barh',\n",
    "                                                                                   x = 'SENADOR',\n",
    "                                                                                   y = 'VALOR_REEMBOLSADO')\n",
    "ax.set_title('Top 10 Refunded Amount by Senator')\n",
    "ax.set(ylabel = None)\n",
    "ax.get_legend().remove()\n",
    "ax.axes.get_xaxis().set_visible(False)\n",
    "add_value_labels(ax, bar = 'v')\n",
    "plt.xlim(0, 7000000)\n",
    "plt.savefig('img\\\\senator_year.jpg',bbox_inches = 'tight')"
   ]
  },
  {
   "cell_type": "code",
   "execution_count": null,
   "id": "0c2313cd",
   "metadata": {},
   "outputs": [],
   "source": [
    "quota_percentage = pd.read_csv('data\\quota_percentage.csv')"
   ]
  },
  {
   "cell_type": "code",
   "execution_count": null,
   "id": "8c02e5ea",
   "metadata": {},
   "outputs": [],
   "source": [
    "plt.figure(figsize=(8, 14))\n",
    "ax = quota_percentage.groupby(['SENADOR']).PERCENTAGE.mean().reset_index()\n",
    "ax = ax.sort_values('PERCENTAGE',\n",
    "                    ascending = False).head(10).sort_values('PERCENTAGE', \n",
    "                                                            ascending = True).plot(kind = 'barh',\n",
    "                                                                                   x = 'SENADOR',\n",
    "                                                                                   y = 'PERCENTAGE')\n",
    "ax.set_title('Top 10 Highest Average Refunded Percentages by Senator')\n",
    "ax.set(ylabel = None)\n",
    "ax.get_legend().remove()\n",
    "ax.axes.get_xaxis().set_visible(False)\n",
    "add_value_labels(ax, bar = 'v')\n",
    "plt.xlim(0, 120)\n",
    "plt.savefig('img\\\\senator_refund_highest_mean.jpg',bbox_inches = 'tight')\n"
   ]
  },
  {
   "cell_type": "code",
   "execution_count": null,
   "id": "db1002c4",
   "metadata": {},
   "outputs": [],
   "source": [
    "plt.figure(figsize=(8, 14))\n",
    "ax = quota_percentage.groupby(['SENADOR']).PERCENTAGE.mean().reset_index()\n",
    "ax = ax.sort_values('PERCENTAGE',\n",
    "                    ascending = True).head(10).sort_values('PERCENTAGE',\n",
    "                                                           ascending = False).plot(kind = 'barh', \n",
    "                                                                                   x = 'SENADOR',\n",
    "                                                                                   y = 'PERCENTAGE')\n",
    "ax.set_title('Top 10 Lowest Average Refunded Percentages by Senator')\n",
    "ax.set(ylabel = None)\n",
    "ax.get_legend().remove()\n",
    "ax.axes.get_xaxis().set_visible(False)\n",
    "add_value_labels(ax, bar = 'v')\n",
    "plt.xlim(0, 18)\n",
    "plt.savefig('img\\\\senator_refund_lowest_mean.jpg',bbox_inches = 'tight')\n"
   ]
  },
  {
   "cell_type": "code",
   "execution_count": null,
   "id": "a1ab7ea2",
   "metadata": {},
   "outputs": [],
   "source": [
    "plt.figure(figsize=(14, 8))\n",
    "ax = sns.barplot(x=\"ANO\", y=\"VALOR_REEMBOLSADO\", hue=\"EXPENSE\", data=data, ci=None)\n",
    "ax.set(xlabel = None)\n",
    "ax.set(ylabel = None)\n",
    "ax.set_title('Expense Type Grouped by Year')\n",
    "plt.grid(ls='-.')\n",
    "plt.legend(bbox_to_anchor=(0.5, -0.3), loc='lower center', borderaxespad=0)\n",
    "plt.savefig('img\\\\expense_type_year.jpg',bbox_inches = 'tight')"
   ]
  },
  {
   "cell_type": "code",
   "execution_count": null,
   "id": "b9e81a5a",
   "metadata": {},
   "outputs": [],
   "source": []
  }
 ],
 "metadata": {
  "kernelspec": {
   "display_name": "Python 3 (ipykernel)",
   "language": "python",
   "name": "python3"
  },
  "language_info": {
   "codemirror_mode": {
    "name": "ipython",
    "version": 3
   },
   "file_extension": ".py",
   "mimetype": "text/x-python",
   "name": "python",
   "nbconvert_exporter": "python",
   "pygments_lexer": "ipython3",
   "version": "3.9.7"
  }
 },
 "nbformat": 4,
 "nbformat_minor": 5
}
