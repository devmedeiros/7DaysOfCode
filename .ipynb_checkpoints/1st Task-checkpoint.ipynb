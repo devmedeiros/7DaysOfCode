{
 "cells": [
  {
   "cell_type": "markdown",
   "id": "f26cc06c",
   "metadata": {},
   "source": [
    "# Data Wrangling"
   ]
  },
  {
   "cell_type": "code",
   "execution_count": 1,
   "id": "f04e1304",
   "metadata": {},
   "outputs": [],
   "source": [
    "import pandas as pd\n",
    "import numpy as np\n",
    "pd.options.display.float_format = '{:.2f}'.format"
   ]
  },
  {
   "cell_type": "code",
   "execution_count": 2,
   "id": "be33038a",
   "metadata": {},
   "outputs": [],
   "source": [
    "#First I read the data from 2008 to make sure I had the correct enconding and sep\n",
    "data = pd.read_csv('data/despesa_ceaps_2008.csv',\n",
    "                   sep = ';', encoding = 'ansi',\n",
    "                   skiprows = 1,\n",
    "                   doublequote = True,\n",
    "                   decimal = ',',\n",
    "                   na_values = 'S/N')\n",
    "#I used a for to read the data from all of the following years and then concatenate them\n",
    "for i in range(14):\n",
    "    path = 'data/despesa_ceaps_'+str(i+2009)+'.csv'\n",
    "    temp_data = pd.read_csv(path, sep = ';',\n",
    "                            encoding = 'ansi',\n",
    "                            skiprows = 1,\n",
    "                            doublequote = True,\n",
    "                            decimal = ',',\n",
    "                            na_values = 'S/N')\n",
    "    data = pd.concat([temp_data, data])\n",
    "data = data.reset_index(drop = True)"
   ]
  },
  {
   "cell_type": "code",
   "execution_count": 3,
   "id": "18914ece",
   "metadata": {},
   "outputs": [
    {
     "data": {
      "text/plain": [
       "array([2022, 2021, 2020, 2019, 2018, 2017, 2016, 2015, 2014, 2013, 2012,\n",
       "       2011, 2010, 2009, 2008], dtype=int64)"
      ]
     },
     "execution_count": 3,
     "metadata": {},
     "output_type": "execute_result"
    }
   ],
   "source": [
    "#All of the years (ANO) was correctly loaded\n",
    "data.ANO.unique()"
   ]
  },
  {
   "cell_type": "code",
   "execution_count": 4,
   "id": "d3db1cea",
   "metadata": {},
   "outputs": [
    {
     "data": {
      "text/html": [
       "<div>\n",
       "<style scoped>\n",
       "    .dataframe tbody tr th:only-of-type {\n",
       "        vertical-align: middle;\n",
       "    }\n",
       "\n",
       "    .dataframe tbody tr th {\n",
       "        vertical-align: top;\n",
       "    }\n",
       "\n",
       "    .dataframe thead th {\n",
       "        text-align: right;\n",
       "    }\n",
       "</style>\n",
       "<table border=\"1\" class=\"dataframe\">\n",
       "  <thead>\n",
       "    <tr style=\"text-align: right;\">\n",
       "      <th></th>\n",
       "      <th>ANO</th>\n",
       "      <th>MES</th>\n",
       "      <th>SENADOR</th>\n",
       "      <th>TIPO_DESPESA</th>\n",
       "      <th>CNPJ_CPF</th>\n",
       "      <th>FORNECEDOR</th>\n",
       "      <th>DOCUMENTO</th>\n",
       "      <th>DATA</th>\n",
       "      <th>DETALHAMENTO</th>\n",
       "      <th>VALOR_REEMBOLSADO</th>\n",
       "      <th>COD_DOCUMENTO</th>\n",
       "    </tr>\n",
       "  </thead>\n",
       "  <tbody>\n",
       "    <tr>\n",
       "      <th>0</th>\n",
       "      <td>2022</td>\n",
       "      <td>1</td>\n",
       "      <td>ACIR GURGACZ</td>\n",
       "      <td>Aluguel de imóveis para escritório político, c...</td>\n",
       "      <td>004.948.028-63</td>\n",
       "      <td>GILBERTO PISELO DO NASCIMENTO</td>\n",
       "      <td>001/22</td>\n",
       "      <td>03/01/2022</td>\n",
       "      <td>Despesa com pagamento de aluguel de imóvel par...</td>\n",
       "      <td>6000.00</td>\n",
       "      <td>2173614</td>\n",
       "    </tr>\n",
       "    <tr>\n",
       "      <th>1</th>\n",
       "      <td>2022</td>\n",
       "      <td>1</td>\n",
       "      <td>ACIR GURGACZ</td>\n",
       "      <td>Divulgação da atividade parlamentar</td>\n",
       "      <td>26.320.603/0001-64</td>\n",
       "      <td>INFORMANAHORA</td>\n",
       "      <td>000000000000310/A</td>\n",
       "      <td>04/01/2022</td>\n",
       "      <td>Despesa com divulgação da atividade parlamenta...</td>\n",
       "      <td>1500.00</td>\n",
       "      <td>2173615</td>\n",
       "    </tr>\n",
       "    <tr>\n",
       "      <th>2</th>\n",
       "      <td>2022</td>\n",
       "      <td>1</td>\n",
       "      <td>ACIR GURGACZ</td>\n",
       "      <td>Divulgação da atividade parlamentar</td>\n",
       "      <td>13.659.201/0001-47</td>\n",
       "      <td>LINHA PURPURA FOTO E VIDEO LTDA</td>\n",
       "      <td>107</td>\n",
       "      <td>14/01/2022</td>\n",
       "      <td>Despesa com produção de texto e edição de víde...</td>\n",
       "      <td>6000.00</td>\n",
       "      <td>2173616</td>\n",
       "    </tr>\n",
       "    <tr>\n",
       "      <th>3</th>\n",
       "      <td>2022</td>\n",
       "      <td>1</td>\n",
       "      <td>ACIR GURGACZ</td>\n",
       "      <td>Divulgação da atividade parlamentar</td>\n",
       "      <td>23.652.846/0001-01</td>\n",
       "      <td>ROBERTO GUTIERREZ DA ROCHA M.E.I.</td>\n",
       "      <td>187</td>\n",
       "      <td>18/01/2022</td>\n",
       "      <td>Divulgação da atividade parlamentar</td>\n",
       "      <td>1000.00</td>\n",
       "      <td>2173618</td>\n",
       "    </tr>\n",
       "    <tr>\n",
       "      <th>4</th>\n",
       "      <td>2022</td>\n",
       "      <td>1</td>\n",
       "      <td>ACIR GURGACZ</td>\n",
       "      <td>Divulgação da atividade parlamentar</td>\n",
       "      <td>08.941.827/0001-01</td>\n",
       "      <td>RONDONIA DINÂMICA COM. E SERV. DE INFORMÁTICA ...</td>\n",
       "      <td>000000000001772/A</td>\n",
       "      <td>17/01/2022</td>\n",
       "      <td>Divulgação da atividade parlamentar</td>\n",
       "      <td>2000.00</td>\n",
       "      <td>2173617</td>\n",
       "    </tr>\n",
       "  </tbody>\n",
       "</table>\n",
       "</div>"
      ],
      "text/plain": [
       "    ANO  MES       SENADOR                                       TIPO_DESPESA  \\\n",
       "0  2022    1  ACIR GURGACZ  Aluguel de imóveis para escritório político, c...   \n",
       "1  2022    1  ACIR GURGACZ                Divulgação da atividade parlamentar   \n",
       "2  2022    1  ACIR GURGACZ                Divulgação da atividade parlamentar   \n",
       "3  2022    1  ACIR GURGACZ                Divulgação da atividade parlamentar   \n",
       "4  2022    1  ACIR GURGACZ                Divulgação da atividade parlamentar   \n",
       "\n",
       "             CNPJ_CPF                                         FORNECEDOR  \\\n",
       "0      004.948.028-63                      GILBERTO PISELO DO NASCIMENTO   \n",
       "1  26.320.603/0001-64                                      INFORMANAHORA   \n",
       "2  13.659.201/0001-47                    LINHA PURPURA FOTO E VIDEO LTDA   \n",
       "3  23.652.846/0001-01                  ROBERTO GUTIERREZ DA ROCHA M.E.I.   \n",
       "4  08.941.827/0001-01  RONDONIA DINÂMICA COM. E SERV. DE INFORMÁTICA ...   \n",
       "\n",
       "           DOCUMENTO        DATA  \\\n",
       "0             001/22  03/01/2022   \n",
       "1  000000000000310/A  04/01/2022   \n",
       "2                107  14/01/2022   \n",
       "3                187  18/01/2022   \n",
       "4  000000000001772/A  17/01/2022   \n",
       "\n",
       "                                        DETALHAMENTO VALOR_REEMBOLSADO  \\\n",
       "0  Despesa com pagamento de aluguel de imóvel par...           6000.00   \n",
       "1  Despesa com divulgação da atividade parlamenta...           1500.00   \n",
       "2  Despesa com produção de texto e edição de víde...           6000.00   \n",
       "3                Divulgação da atividade parlamentar           1000.00   \n",
       "4                Divulgação da atividade parlamentar           2000.00   \n",
       "\n",
       "   COD_DOCUMENTO  \n",
       "0        2173614  \n",
       "1        2173615  \n",
       "2        2173616  \n",
       "3        2173618  \n",
       "4        2173617  "
      ]
     },
     "execution_count": 4,
     "metadata": {},
     "output_type": "execute_result"
    }
   ],
   "source": [
    "data.head()"
   ]
  },
  {
   "cell_type": "code",
   "execution_count": 5,
   "id": "4a6e78f8",
   "metadata": {},
   "outputs": [
    {
     "data": {
      "text/plain": [
       "ANO                       0\n",
       "MES                       0\n",
       "SENADOR                   0\n",
       "TIPO_DESPESA              0\n",
       "CNPJ_CPF               3144\n",
       "FORNECEDOR             3144\n",
       "DOCUMENTO             26003\n",
       "DATA                   3144\n",
       "DETALHAMENTO         131443\n",
       "VALOR_REEMBOLSADO         0\n",
       "COD_DOCUMENTO             0\n",
       "dtype: int64"
      ]
     },
     "execution_count": 5,
     "metadata": {},
     "output_type": "execute_result"
    }
   ],
   "source": [
    "#Null data present in the dataset\n",
    "data.isnull().sum()"
   ]
  },
  {
   "cell_type": "code",
   "execution_count": 6,
   "id": "1699c58e",
   "metadata": {},
   "outputs": [
    {
     "data": {
      "text/plain": [
       "array([], dtype=object)"
      ]
     },
     "execution_count": 6,
     "metadata": {},
     "output_type": "execute_result"
    }
   ],
   "source": [
    "#Weird date, we need to substitute this with the correct date \"07/08/2015, 24/08/2015\"\n",
    "data[data.COD_DOCUMENTO.isnull()].DATA.unique()"
   ]
  },
  {
   "cell_type": "code",
   "execution_count": 7,
   "id": "73385c4b",
   "metadata": {},
   "outputs": [],
   "source": [
    "data['DATA'] = data.apply(lambda row: row['DATA'][str(row['DATA']).find('/20')-5:str(row['DATA']).find('/20')+5] if str(row['DATA']).find('/') > 2 else row['DATA'],\n",
    "           axis = 1)"
   ]
  },
  {
   "cell_type": "code",
   "execution_count": 8,
   "id": "1c24cd17",
   "metadata": {},
   "outputs": [
    {
     "data": {
      "text/plain": [
       "False"
      ]
     },
     "execution_count": 8,
     "metadata": {},
     "output_type": "execute_result"
    }
   ],
   "source": [
    "#I will use 999 as a code for SEM FATURA (no invoice) document code.\n",
    "999 in data.COD_DOCUMENTO.unique()"
   ]
  },
  {
   "cell_type": "code",
   "execution_count": 9,
   "id": "736acdee",
   "metadata": {},
   "outputs": [],
   "source": [
    "data.fillna(value = {'COD_DOCUMENTO': 999}, inplace = True)"
   ]
  },
  {
   "cell_type": "code",
   "execution_count": 10,
   "id": "8241f50b",
   "metadata": {},
   "outputs": [],
   "source": [
    "#If the data is null than I will complete it with the first day of the month and year that expense was created\n",
    "data['DATA'] = data.apply(lambda row: '01/'+str(row['MES']).zfill(2)+'/'+str(row['ANO']) if pd.isnull(row['DATA']) else row['DATA'],\n",
    "                     axis=1)"
   ]
  },
  {
   "cell_type": "code",
   "execution_count": 11,
   "id": "e3bfc36a",
   "metadata": {},
   "outputs": [
    {
     "data": {
      "text/plain": [
       "0"
      ]
     },
     "execution_count": 11,
     "metadata": {},
     "output_type": "execute_result"
    }
   ],
   "source": [
    "#Duplicated data in the dataset\n",
    "data.duplicated().sum()"
   ]
  },
  {
   "cell_type": "code",
   "execution_count": 12,
   "id": "5cf810f8",
   "metadata": {},
   "outputs": [],
   "source": [
    "#Converting the COD_DOCUMENTO to int type\n",
    "data.COD_DOCUMENTO = pd.to_numeric(data.COD_DOCUMENTO, downcast = 'integer')"
   ]
  },
  {
   "cell_type": "code",
   "execution_count": 13,
   "id": "b9299528",
   "metadata": {},
   "outputs": [],
   "source": [
    "def isfloat(num):\n",
    "    try:\n",
    "        float(num)\n",
    "        return True\n",
    "    except ValueError:\n",
    "        return False"
   ]
  },
  {
   "cell_type": "code",
   "execution_count": 14,
   "id": "cd92b415",
   "metadata": {},
   "outputs": [
    {
     "name": "stderr",
     "output_type": "stream",
     "text": [
      "D:\\miniconda3\\envs\\meuCu\\lib\\site-packages\\pandas\\core\\indexing.py:1732: SettingWithCopyWarning: \n",
      "A value is trying to be set on a copy of a slice from a DataFrame\n",
      "\n",
      "See the caveats in the documentation: https://pandas.pydata.org/pandas-docs/stable/user_guide/indexing.html#returning-a-view-versus-a-copy\n",
      "  self._setitem_single_block(indexer, value, name)\n"
     ]
    }
   ],
   "source": [
    "for i in range(len(data)):\n",
    "    if not isfloat(data.VALOR_REEMBOLSADO.loc[i]):\n",
    "        data.VALOR_REEMBOLSADO.loc[i] = data.VALOR_REEMBOLSADO.loc[i].replace('\\r\\n', '')\n",
    "        data.VALOR_REEMBOLSADO.loc[i] = data.VALOR_REEMBOLSADO.loc[i].replace(',', '.')"
   ]
  },
  {
   "cell_type": "code",
   "execution_count": 15,
   "id": "fd72058c",
   "metadata": {},
   "outputs": [],
   "source": [
    "data.VALOR_REEMBOLSADO = pd.to_numeric(data.VALOR_REEMBOLSADO)"
   ]
  },
  {
   "cell_type": "code",
   "execution_count": 16,
   "id": "60dd17b0",
   "metadata": {},
   "outputs": [
    {
     "data": {
      "text/plain": [
       "array(['Despesa com Monitoramento de Informação Jornalística em Mídia Eletrônica e Imprensa',\n",
       "       'Contrato de locação de Imóvel comercial do escritório de apoio do Senador Gladson Cameli no Estado',\n",
       "       '9572100929351 - R$ 1.298,93 (1º bilhete emitido) 9572102224403 - R$ 1.418,93 (1ª remarcação) 9572104023443 - R$ 1.498,93 (2ª remarcação) 9572104373256 - R$ 2.412,03 (3ª remarcação - bilhete utilizado)'],\n",
       "      dtype=object)"
      ]
     },
     "execution_count": 16,
     "metadata": {},
     "output_type": "execute_result"
    }
   ],
   "source": [
    "data[data.VALOR_REEMBOLSADO < 0].DETALHAMENTO.unique()"
   ]
  },
  {
   "cell_type": "code",
   "execution_count": 17,
   "id": "16832eb6",
   "metadata": {},
   "outputs": [
    {
     "data": {
      "text/html": [
       "<div>\n",
       "<style scoped>\n",
       "    .dataframe tbody tr th:only-of-type {\n",
       "        vertical-align: middle;\n",
       "    }\n",
       "\n",
       "    .dataframe tbody tr th {\n",
       "        vertical-align: top;\n",
       "    }\n",
       "\n",
       "    .dataframe thead th {\n",
       "        text-align: right;\n",
       "    }\n",
       "</style>\n",
       "<table border=\"1\" class=\"dataframe\">\n",
       "  <thead>\n",
       "    <tr style=\"text-align: right;\">\n",
       "      <th></th>\n",
       "      <th>ANO</th>\n",
       "      <th>MES</th>\n",
       "      <th>SENADOR</th>\n",
       "      <th>TIPO_DESPESA</th>\n",
       "      <th>CNPJ_CPF</th>\n",
       "      <th>FORNECEDOR</th>\n",
       "      <th>DOCUMENTO</th>\n",
       "      <th>DATA</th>\n",
       "      <th>DETALHAMENTO</th>\n",
       "      <th>VALOR_REEMBOLSADO</th>\n",
       "      <th>COD_DOCUMENTO</th>\n",
       "    </tr>\n",
       "  </thead>\n",
       "  <tbody>\n",
       "    <tr>\n",
       "      <th>85157</th>\n",
       "      <td>2017</td>\n",
       "      <td>5</td>\n",
       "      <td>DÁRIO BERGER</td>\n",
       "      <td>Contratação de consultorias, assessorias, pesq...</td>\n",
       "      <td>73.228.876/0001-63</td>\n",
       "      <td>TV CLIPAGEM LTDA. EPP.</td>\n",
       "      <td>001661</td>\n",
       "      <td>02/06/2017</td>\n",
       "      <td>Despesa com Monitoramento de Informação Jornal...</td>\n",
       "      <td>-243.40</td>\n",
       "      <td>2068568</td>\n",
       "    </tr>\n",
       "    <tr>\n",
       "      <th>142588</th>\n",
       "      <td>2015</td>\n",
       "      <td>2</td>\n",
       "      <td>GLADSON CAMELI</td>\n",
       "      <td>Aluguel de imóveis para escritório político, c...</td>\n",
       "      <td>63.600.449/0001-00</td>\n",
       "      <td>Arras Adm. de Bens Imóveis Limpeza e Conservaç...</td>\n",
       "      <td>NaN</td>\n",
       "      <td>15/01/2015</td>\n",
       "      <td>Contrato de locação de Imóvel comercial do esc...</td>\n",
       "      <td>-1500.00</td>\n",
       "      <td>2001228</td>\n",
       "    </tr>\n",
       "    <tr>\n",
       "      <th>153498</th>\n",
       "      <td>2015</td>\n",
       "      <td>1</td>\n",
       "      <td>RANDOLFE RODRIGUES</td>\n",
       "      <td>Passagens aéreas, aquáticas e terrestres nacio...</td>\n",
       "      <td>02.012.862/0001-60</td>\n",
       "      <td>Tam Linhas Aereas S/A</td>\n",
       "      <td>9,5721E+12</td>\n",
       "      <td>28/01/2015</td>\n",
       "      <td>9572100929351 - R$ 1.298,93 (1º bilhete emitid...</td>\n",
       "      <td>-9.00</td>\n",
       "      <td>2000358</td>\n",
       "    </tr>\n",
       "  </tbody>\n",
       "</table>\n",
       "</div>"
      ],
      "text/plain": [
       "         ANO  MES             SENADOR  \\\n",
       "85157   2017    5        DÁRIO BERGER   \n",
       "142588  2015    2      GLADSON CAMELI   \n",
       "153498  2015    1  RANDOLFE RODRIGUES   \n",
       "\n",
       "                                             TIPO_DESPESA            CNPJ_CPF  \\\n",
       "85157   Contratação de consultorias, assessorias, pesq...  73.228.876/0001-63   \n",
       "142588  Aluguel de imóveis para escritório político, c...  63.600.449/0001-00   \n",
       "153498  Passagens aéreas, aquáticas e terrestres nacio...  02.012.862/0001-60   \n",
       "\n",
       "                                               FORNECEDOR   DOCUMENTO  \\\n",
       "85157                              TV CLIPAGEM LTDA. EPP.      001661   \n",
       "142588  Arras Adm. de Bens Imóveis Limpeza e Conservaç...         NaN   \n",
       "153498                              Tam Linhas Aereas S/A  9,5721E+12   \n",
       "\n",
       "              DATA                                       DETALHAMENTO  \\\n",
       "85157   02/06/2017  Despesa com Monitoramento de Informação Jornal...   \n",
       "142588  15/01/2015  Contrato de locação de Imóvel comercial do esc...   \n",
       "153498  28/01/2015  9572100929351 - R$ 1.298,93 (1º bilhete emitid...   \n",
       "\n",
       "        VALOR_REEMBOLSADO  COD_DOCUMENTO  \n",
       "85157             -243.40        2068568  \n",
       "142588           -1500.00        2001228  \n",
       "153498              -9.00        2000358  "
      ]
     },
     "execution_count": 17,
     "metadata": {},
     "output_type": "execute_result"
    }
   ],
   "source": [
    "data[data.VALOR_REEMBOLSADO < 0]"
   ]
  },
  {
   "cell_type": "code",
   "execution_count": 18,
   "id": "004b0b7a",
   "metadata": {},
   "outputs": [],
   "source": [
    "#I'm substituting this value because in the DETALHAMENTO it explicit the correct number\n",
    "data.loc[153498,'VALOR_REEMBOLSADO'] = 2412.03\n",
    "#The other values appers to simply be a typo, so I'm using the absolute value\n",
    "data.VALOR_REEMBOLSADO = abs(data.VALOR_REEMBOLSADO)"
   ]
  },
  {
   "cell_type": "code",
   "execution_count": 19,
   "id": "94461683",
   "metadata": {},
   "outputs": [
    {
     "data": {
      "text/html": [
       "<div>\n",
       "<style scoped>\n",
       "    .dataframe tbody tr th:only-of-type {\n",
       "        vertical-align: middle;\n",
       "    }\n",
       "\n",
       "    .dataframe tbody tr th {\n",
       "        vertical-align: top;\n",
       "    }\n",
       "\n",
       "    .dataframe thead th {\n",
       "        text-align: right;\n",
       "    }\n",
       "</style>\n",
       "<table border=\"1\" class=\"dataframe\">\n",
       "  <thead>\n",
       "    <tr style=\"text-align: right;\">\n",
       "      <th></th>\n",
       "      <th>count</th>\n",
       "      <th>mean</th>\n",
       "      <th>std</th>\n",
       "      <th>min</th>\n",
       "      <th>25%</th>\n",
       "      <th>50%</th>\n",
       "      <th>75%</th>\n",
       "      <th>max</th>\n",
       "    </tr>\n",
       "    <tr>\n",
       "      <th>TIPO_DESPESA</th>\n",
       "      <th></th>\n",
       "      <th></th>\n",
       "      <th></th>\n",
       "      <th></th>\n",
       "      <th></th>\n",
       "      <th></th>\n",
       "      <th></th>\n",
       "      <th></th>\n",
       "    </tr>\n",
       "  </thead>\n",
       "  <tbody>\n",
       "    <tr>\n",
       "      <th>Aluguel de imóveis para escritório político, compreendendo despesas concernentes a eles.</th>\n",
       "      <td>60100.00</td>\n",
       "      <td>951.35</td>\n",
       "      <td>1575.82</td>\n",
       "      <td>0.01</td>\n",
       "      <td>144.22</td>\n",
       "      <td>339.90</td>\n",
       "      <td>930.00</td>\n",
       "      <td>18793.95</td>\n",
       "    </tr>\n",
       "    <tr>\n",
       "      <th>Aquisição de material de consumo para uso no escritório político, inclusive aquisição ou locação de software, despesas postais, aquisição de publicações, locação de móveis e de equipamentos.</th>\n",
       "      <td>24907.00</td>\n",
       "      <td>482.79</td>\n",
       "      <td>1083.68</td>\n",
       "      <td>0.01</td>\n",
       "      <td>47.50</td>\n",
       "      <td>135.00</td>\n",
       "      <td>420.00</td>\n",
       "      <td>40000.00</td>\n",
       "    </tr>\n",
       "    <tr>\n",
       "      <th>Contratação de consultorias, assessorias, pesquisas, trabalhos técnicos e outros serviços de apoio ao exercício do mandato parlamentar</th>\n",
       "      <td>12280.00</td>\n",
       "      <td>4162.96</td>\n",
       "      <td>6907.99</td>\n",
       "      <td>0.21</td>\n",
       "      <td>304.58</td>\n",
       "      <td>1726.55</td>\n",
       "      <td>5000.00</td>\n",
       "      <td>150000.00</td>\n",
       "    </tr>\n",
       "    <tr>\n",
       "      <th>Divulgação da atividade parlamentar</th>\n",
       "      <td>13004.00</td>\n",
       "      <td>3094.62</td>\n",
       "      <td>6730.70</td>\n",
       "      <td>0.60</td>\n",
       "      <td>800.00</td>\n",
       "      <td>1500.00</td>\n",
       "      <td>3000.00</td>\n",
       "      <td>270000.00</td>\n",
       "    </tr>\n",
       "    <tr>\n",
       "      <th>Locomoção, hospedagem, alimentação, combustíveis e lubrificantes</th>\n",
       "      <td>127604.00</td>\n",
       "      <td>575.56</td>\n",
       "      <td>1659.03</td>\n",
       "      <td>0.01</td>\n",
       "      <td>50.00</td>\n",
       "      <td>120.00</td>\n",
       "      <td>222.03</td>\n",
       "      <td>66730.00</td>\n",
       "    </tr>\n",
       "    <tr>\n",
       "      <th>Passagens aéreas, aquáticas e terrestres nacionais</th>\n",
       "      <td>66091.00</td>\n",
       "      <td>997.18</td>\n",
       "      <td>749.97</td>\n",
       "      <td>0.01</td>\n",
       "      <td>511.53</td>\n",
       "      <td>835.57</td>\n",
       "      <td>1335.08</td>\n",
       "      <td>84000.00</td>\n",
       "    </tr>\n",
       "    <tr>\n",
       "      <th>Serviços de Segurança Privada</th>\n",
       "      <td>925.00</td>\n",
       "      <td>3331.84</td>\n",
       "      <td>6075.21</td>\n",
       "      <td>6.57</td>\n",
       "      <td>198.00</td>\n",
       "      <td>499.88</td>\n",
       "      <td>4125.00</td>\n",
       "      <td>28922.72</td>\n",
       "    </tr>\n",
       "  </tbody>\n",
       "</table>\n",
       "</div>"
      ],
      "text/plain": [
       "                                                       count    mean     std  \\\n",
       "TIPO_DESPESA                                                                   \n",
       "Aluguel de imóveis para escritório político, co...  60100.00  951.35 1575.82   \n",
       "Aquisição de material de consumo para uso no es...  24907.00  482.79 1083.68   \n",
       "Contratação de consultorias, assessorias, pesqu...  12280.00 4162.96 6907.99   \n",
       "Divulgação da atividade parlamentar                 13004.00 3094.62 6730.70   \n",
       "Locomoção, hospedagem, alimentação, combustívei... 127604.00  575.56 1659.03   \n",
       "Passagens aéreas, aquáticas e terrestres nacionais  66091.00  997.18  749.97   \n",
       "Serviços de Segurança Privada                         925.00 3331.84 6075.21   \n",
       "\n",
       "                                                    min    25%     50%  \\\n",
       "TIPO_DESPESA                                                             \n",
       "Aluguel de imóveis para escritório político, co... 0.01 144.22  339.90   \n",
       "Aquisição de material de consumo para uso no es... 0.01  47.50  135.00   \n",
       "Contratação de consultorias, assessorias, pesqu... 0.21 304.58 1726.55   \n",
       "Divulgação da atividade parlamentar                0.60 800.00 1500.00   \n",
       "Locomoção, hospedagem, alimentação, combustívei... 0.01  50.00  120.00   \n",
       "Passagens aéreas, aquáticas e terrestres nacionais 0.01 511.53  835.57   \n",
       "Serviços de Segurança Privada                      6.57 198.00  499.88   \n",
       "\n",
       "                                                       75%       max  \n",
       "TIPO_DESPESA                                                          \n",
       "Aluguel de imóveis para escritório político, co...  930.00  18793.95  \n",
       "Aquisição de material de consumo para uso no es...  420.00  40000.00  \n",
       "Contratação de consultorias, assessorias, pesqu... 5000.00 150000.00  \n",
       "Divulgação da atividade parlamentar                3000.00 270000.00  \n",
       "Locomoção, hospedagem, alimentação, combustívei...  222.03  66730.00  \n",
       "Passagens aéreas, aquáticas e terrestres nacionais 1335.08  84000.00  \n",
       "Serviços de Segurança Privada                      4125.00  28922.72  "
      ]
     },
     "execution_count": 19,
     "metadata": {},
     "output_type": "execute_result"
    }
   ],
   "source": [
    "data.groupby('TIPO_DESPESA').VALOR_REEMBOLSADO.describe()"
   ]
  },
  {
   "cell_type": "code",
   "execution_count": 20,
   "id": "d01f0e2d",
   "metadata": {},
   "outputs": [],
   "source": [
    "quota = pd.read_csv('data\\cota.csv')\n",
    "senators_uf = pd.read_csv('data\\senadores_uf.csv')"
   ]
  },
  {
   "cell_type": "code",
   "execution_count": 21,
   "id": "24dd32bc",
   "metadata": {},
   "outputs": [
    {
     "data": {
      "text/plain": [
       "80"
      ]
     },
     "execution_count": 21,
     "metadata": {},
     "output_type": "execute_result"
    }
   ],
   "source": [
    "#There is 80 values that aren't possible\n",
    "len(data.VALOR_REEMBOLSADO[data.VALOR_REEMBOLSADO > quota.QUOTA.max()])"
   ]
  },
  {
   "cell_type": "code",
   "execution_count": 22,
   "id": "bee15517",
   "metadata": {},
   "outputs": [],
   "source": [
    "#data[(data.VALOR_REEMBOLSADO < 10) & (data.FORNECEDOR == 'AZUL')]"
   ]
  },
  {
   "cell_type": "code",
   "execution_count": null,
   "id": "4fbd182d",
   "metadata": {},
   "outputs": [
    {
     "name": "stderr",
     "output_type": "stream",
     "text": [
      "C:\\Users\\jaque\\AppData\\Local\\Temp/ipykernel_11088/2432097341.py:3: SettingWithCopyWarning: \n",
      "A value is trying to be set on a copy of a slice from a DataFrame\n",
      "\n",
      "See the caveats in the documentation: https://pandas.pydata.org/pandas-docs/stable/user_guide/indexing.html#returning-a-view-versus-a-copy\n",
      "  data.VALOR_REEMBOLSADO[i] = data.VALOR_REEMBOLSADO[i]/100\n"
     ]
    }
   ],
   "source": [
    "for i in range(len(data)):\n",
    "    if data.VALOR_REEMBOLSADO[i] > quota.QUOTA.max():\n",
    "        data.VALOR_REEMBOLSADO[i] = data.VALOR_REEMBOLSADO[i]/100"
   ]
  },
  {
   "cell_type": "code",
   "execution_count": null,
   "id": "564a5209",
   "metadata": {},
   "outputs": [],
   "source": [
    "#Making a dictionary to translate the column TIPO_DESPESA\n",
    "pt = data.TIPO_DESPESA.unique()\n",
    "en = (['Lease of properties for political office, including expenses related to them',\n",
    "'Publication of parliamentary activity',\n",
    "'National air, water and land tickets',\n",
    "'Hiring consultancy, advisory, research, technical works and other services to support the exercise of parliamentary mandate',\n",
    "'Locomotion, accommodation, food, fuel and lubricants',\n",
    "'Purchase of consumables for use in the political office, including purchase or lease of software, postage, purchase of publications, lease of furniture and equipment',\n",
    "'Private Security Services'])\n",
    "expenses = pd.concat([pd.Series(pt),pd.Series(en)], axis = 1)\n",
    "expenses.rename(columns = {0: 'pt', 1: 'en'}, inplace = True)\n",
    "data['EXPENSE'] = ''\n",
    "for i in range(len(data)):\n",
    "    for j in range(len(expenses)):\n",
    "        if data.TIPO_DESPESA[i] == expenses.pt[j]:\n",
    "            data.EXPENSE[i] = expenses.en[j]"
   ]
  },
  {
   "cell_type": "markdown",
   "id": "5c06b3a9",
   "metadata": {},
   "source": [
    "I'm not going to fill the rest of the null values because there is no information on how to fill it. I'm also not deleting this rows because of the important information we might lose."
   ]
  },
  {
   "cell_type": "code",
   "execution_count": null,
   "id": "742e431b",
   "metadata": {},
   "outputs": [],
   "source": [
    "data.to_csv('clean_data.csv', index = False)"
   ]
  },
  {
   "cell_type": "markdown",
   "id": "08d44e87",
   "metadata": {},
   "source": [
    "The quota for each UF can be found [here](https://www2.camara.leg.br/legin/int/atomes/2009/atodamesa-43-21-maio-2009-588364-norma-cd-mesa.html). And the relation between senator and UF can be found [here](https://pt.wikipedia.org/wiki/Lista_de_senadores_do_Brasil). Both datasets can be found on the `data` folder."
   ]
  },
  {
   "cell_type": "code",
   "execution_count": null,
   "id": "c8f191aa",
   "metadata": {},
   "outputs": [],
   "source": [
    "quota.head()"
   ]
  },
  {
   "cell_type": "code",
   "execution_count": null,
   "id": "bd8ed1b0",
   "metadata": {},
   "outputs": [],
   "source": [
    "senators_uf.head()"
   ]
  },
  {
   "cell_type": "code",
   "execution_count": null,
   "id": "23193554",
   "metadata": {},
   "outputs": [],
   "source": [
    "quota_percentage = data.groupby(['ANO', 'MES','SENADOR'], as_index = False)['VALOR_REEMBOLSADO'].sum()\n",
    "quota_percentage = pd.merge(quota_percentage, senators_uf, left_on = 'SENADOR', right_on = 'NOME', how = 'left')"
   ]
  },
  {
   "cell_type": "code",
   "execution_count": null,
   "id": "7f09f05c",
   "metadata": {},
   "outputs": [],
   "source": [
    "quota_percentage = pd.merge(quota_percentage, quota, on = 'UF', how = 'left')"
   ]
  },
  {
   "cell_type": "code",
   "execution_count": null,
   "id": "4721efa7",
   "metadata": {},
   "outputs": [],
   "source": [
    "quota_percentage.QUOTA = quota_percentage.QUOTA.fillna(quota.QUOTA.mean())\n",
    "quota_percentage.QUOTA = round(quota_percentage.QUOTA, 2)"
   ]
  },
  {
   "cell_type": "code",
   "execution_count": null,
   "id": "f5f27244",
   "metadata": {},
   "outputs": [],
   "source": [
    "quota_percentage = quota_percentage.drop('NOME', axis=1)"
   ]
  },
  {
   "cell_type": "code",
   "execution_count": null,
   "id": "d22364fe",
   "metadata": {},
   "outputs": [],
   "source": [
    "quota_percentage['PERCENTAGE'] = round((quota_percentage.VALOR_REEMBOLSADO/quota_percentage.QUOTA)*100.00,2)"
   ]
  },
  {
   "cell_type": "code",
   "execution_count": null,
   "id": "53f4c47d",
   "metadata": {},
   "outputs": [],
   "source": [
    "quota_percentage.describe()"
   ]
  },
  {
   "cell_type": "code",
   "execution_count": null,
   "id": "fb38c458",
   "metadata": {},
   "outputs": [],
   "source": [
    "quota_percentage.to_csv('quota_percentage.csv', index = False)"
   ]
  },
  {
   "cell_type": "code",
   "execution_count": null,
   "id": "535dbc95",
   "metadata": {},
   "outputs": [],
   "source": []
  }
 ],
 "metadata": {
  "kernelspec": {
   "display_name": "Python 3 (ipykernel)",
   "language": "python",
   "name": "python3"
  },
  "language_info": {
   "codemirror_mode": {
    "name": "ipython",
    "version": 3
   },
   "file_extension": ".py",
   "mimetype": "text/x-python",
   "name": "python",
   "nbconvert_exporter": "python",
   "pygments_lexer": "ipython3",
   "version": "3.9.7"
  }
 },
 "nbformat": 4,
 "nbformat_minor": 5
}
